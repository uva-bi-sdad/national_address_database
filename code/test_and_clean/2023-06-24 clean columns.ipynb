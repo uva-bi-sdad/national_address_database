{
 "cells": [
  {
   "cell_type": "code",
   "execution_count": 2,
   "id": "4359d613",
   "metadata": {},
   "outputs": [],
   "source": [
    "import geopandas as gpd\n",
    "import pandas as pd\n",
    "from pathlib import Path\n",
    "from tqdm import tqdm\n",
    "import requests\n",
    "import io"
   ]
  },
  {
   "cell_type": "markdown",
   "id": "0b4eb0b7",
   "metadata": {},
   "source": [
    "# Cleaning up the columns so no extras exist"
   ]
  },
  {
   "cell_type": "code",
   "execution_count": 3,
   "id": "e0785921",
   "metadata": {},
   "outputs": [
    {
     "name": "stderr",
     "output_type": "stream",
     "text": [
      "(316) Cleaning county: ../../data/address/72153.csv.xz, 72153: 100%|█| 3221/3221 [05:29<00:00,  9.77i\n"
     ]
    }
   ],
   "source": [
    "address_dir = '../../data/address/'\n",
    "p = Path(address_dir).iterdir()\n",
    "xz_files = sorted([x for x in p if x.is_file() and x.suffix=='.xz'])\n",
    "pbar = tqdm(xz_files)\n",
    "cleaned_count = 0\n",
    "for file in pbar:\n",
    "    county_fip = file.name.split('.')[0]\n",
    "    pbar.set_description('(%s) Cleaning county: %s, %s' % (cleaned_count, file, county_fip))\n",
    "    adf = pd.read_csv(file, dtype={'GEOID20':object})\n",
    "    start_len = len(adf.columns)\n",
    "    adf = adf.reindex(columns=['address','GEOID20', 'longitude', 'latitude'])\n",
    "    end_len = len(adf.columns)\n",
    "    \n",
    "    if start_len != end_len:\n",
    "        # print(start_cols)\n",
    "        cleaned_count += 1\n",
    "        adf.to_csv(file, index=False)"
   ]
  }
 ],
 "metadata": {
  "kernelspec": {
   "display_name": "Python 3 (ipykernel)",
   "language": "python",
   "name": "python3"
  },
  "language_info": {
   "codemirror_mode": {
    "name": "ipython",
    "version": 3
   },
   "file_extension": ".py",
   "mimetype": "text/x-python",
   "name": "python",
   "nbconvert_exporter": "python",
   "pygments_lexer": "ipython3",
   "version": "3.10.7"
  }
 },
 "nbformat": 4,
 "nbformat_minor": 5
}
