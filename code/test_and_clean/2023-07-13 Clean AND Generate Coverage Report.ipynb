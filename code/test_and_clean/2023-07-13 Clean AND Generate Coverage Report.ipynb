{
 "cells": [
  {
   "cell_type": "code",
   "execution_count": 34,
   "metadata": {},
   "outputs": [],
   "source": [
    "import pandas as pd\n",
    "import os\n",
    "from tqdm import tqdm\n",
    "import requests\n",
    "from bs4 import BeautifulSoup\n",
    "import geopandas as gpd\n",
    "import contextily as ctx\n",
    "import matplotlib as mpl\n",
    "import pathlib\n",
    "# from pandarallel import pandarallel"
   ]
  },
  {
   "cell_type": "markdown",
   "metadata": {},
   "source": [
    "# Generate Empty (Go through each county. If there is a file, join on geoid, if there is not, create empty columns)"
   ]
  },
  {
   "cell_type": "code",
   "execution_count": 35,
   "metadata": {},
   "outputs": [
    {
     "name": "stdout",
     "output_type": "stream",
     "text": [
      "3221\n"
     ]
    }
   ],
   "source": [
    "prefix = 'https://www2.census.gov/geo/tiger/TIGER2020PL/LAYER/TABBLOCK/2020/'\n",
    "r= requests.get(prefix)\n",
    "soup = BeautifulSoup(r.content)\n",
    "valid_zips = {}\n",
    "\n",
    "for a in soup.find_all('a', href=True):\n",
    "    if not '.zip' in a['href'] or len(a['href'])!= 28: # filter for the entire state ones\n",
    "        continue\n",
    "    valid_zips[a['href'].split('_')[2]] = prefix+a['href']\n",
    "print(len(valid_zips))"
   ]
  },
  {
   "cell_type": "code",
   "execution_count": 36,
   "metadata": {},
   "outputs": [
    {
     "name": "stderr",
     "output_type": "stream",
     "text": [
      "72153 geoid length same, skipping: 100%|█████████████████████████| 3221/3221 [18:45<00:00,  2.86it/s]\n"
     ]
    }
   ],
   "source": [
    "pbar = tqdm(valid_zips)\n",
    "i = 0\n",
    "for county in pbar:\n",
    "    i+= 1\n",
    "    \n",
    "    # Assuming manually downloaded\n",
    "    county_shape_df = gpd.read_file('../../data/shapefiles/tl_2020_{county}_tabblock20.zip'.format(county=county))    \n",
    "    if os.path.isfile('../../data/address/%s.csv.xz' % county):\n",
    "        cdf = pd.read_csv('../../data/address/%s.csv.xz' % county, dtype={'GEOID20':object})\n",
    "        \n",
    "        # Skip if the length is already the same\n",
    "        if len(cdf['GEOID20'].unique()) == len(county_shape_df['GEOID20'].unique()):\n",
    "            pbar.set_description('%s geoid length same, skipping' % county)\n",
    "            continue\n",
    "        pbar.set_description('%s geoid not the same, merging' % county)\n",
    "        mdf = pd.merge(cdf,county_shape_df[['GEOID20']],on='GEOID20', how='right') # create empty rows based on authority shape fiels\n",
    "    else:\n",
    "        mdf = county_shape_df[['GEOID20']]\n",
    "        pbar.set_description('%s address not found, adding' % county)\n",
    "    mdf = mdf.reindex(columns= ['address', 'GEOID20', 'longitude', 'latitude'])\n",
    "    \n",
    "    # Fail if the lengths are not the same\n",
    "    assert len(mdf['GEOID20'].unique()) == len(county_shape_df['GEOID20'].unique()), print('%s: %s' % (len(mdf['GEOID20'].unique()), len(county_shape_df['GEOID20'].unique())))\n",
    "    pbar.set_description('%s length of file same, saving' % county)\n",
    "    mdf.to_csv('../data/address/%s.csv.xz' % county, index =False)"
   ]
  },
  {
   "cell_type": "markdown",
   "metadata": {},
   "source": [
    "# Generate Report"
   ]
  },
  {
   "cell_type": "code",
   "execution_count": 37,
   "metadata": {},
   "outputs": [
    {
     "name": "stderr",
     "output_type": "stream",
     "text": [
      "Reading: ../../data/address/72153.csv.xz: 100%|██████████████████| 3221/3221 [02:27<00:00, 21.84it/s]\n"
     ]
    },
    {
     "data": {
      "text/html": [
       "<div>\n",
       "<style scoped>\n",
       "    .dataframe tbody tr th:only-of-type {\n",
       "        vertical-align: middle;\n",
       "    }\n",
       "\n",
       "    .dataframe tbody tr th {\n",
       "        vertical-align: top;\n",
       "    }\n",
       "\n",
       "    .dataframe thead th {\n",
       "        text-align: right;\n",
       "    }\n",
       "</style>\n",
       "<table border=\"1\" class=\"dataframe\">\n",
       "  <thead>\n",
       "    <tr style=\"text-align: right;\">\n",
       "      <th></th>\n",
       "      <th>GEOID20</th>\n",
       "      <th>address_count</th>\n",
       "    </tr>\n",
       "  </thead>\n",
       "  <tbody>\n",
       "    <tr>\n",
       "      <th>0</th>\n",
       "      <td>010010201001000</td>\n",
       "      <td>1</td>\n",
       "    </tr>\n",
       "    <tr>\n",
       "      <th>1</th>\n",
       "      <td>010010201001001</td>\n",
       "      <td>1</td>\n",
       "    </tr>\n",
       "    <tr>\n",
       "      <th>2</th>\n",
       "      <td>010010201001002</td>\n",
       "      <td>1</td>\n",
       "    </tr>\n",
       "    <tr>\n",
       "      <th>3</th>\n",
       "      <td>010010201001003</td>\n",
       "      <td>1</td>\n",
       "    </tr>\n",
       "    <tr>\n",
       "      <th>4</th>\n",
       "      <td>010010201001004</td>\n",
       "      <td>1</td>\n",
       "    </tr>\n",
       "    <tr>\n",
       "      <th>...</th>\n",
       "      <td>...</td>\n",
       "      <td>...</td>\n",
       "    </tr>\n",
       "    <tr>\n",
       "      <th>592</th>\n",
       "      <td>721537506022011</td>\n",
       "      <td>0</td>\n",
       "    </tr>\n",
       "    <tr>\n",
       "      <th>593</th>\n",
       "      <td>721537506022012</td>\n",
       "      <td>0</td>\n",
       "    </tr>\n",
       "    <tr>\n",
       "      <th>594</th>\n",
       "      <td>721537506022013</td>\n",
       "      <td>0</td>\n",
       "    </tr>\n",
       "    <tr>\n",
       "      <th>595</th>\n",
       "      <td>721537506022014</td>\n",
       "      <td>0</td>\n",
       "    </tr>\n",
       "    <tr>\n",
       "      <th>596</th>\n",
       "      <td>721537506022015</td>\n",
       "      <td>0</td>\n",
       "    </tr>\n",
       "  </tbody>\n",
       "</table>\n",
       "<p>8174955 rows × 2 columns</p>\n",
       "</div>"
      ],
      "text/plain": [
       "             GEOID20  address_count\n",
       "0    010010201001000              1\n",
       "1    010010201001001              1\n",
       "2    010010201001002              1\n",
       "3    010010201001003              1\n",
       "4    010010201001004              1\n",
       "..               ...            ...\n",
       "592  721537506022011              0\n",
       "593  721537506022012              0\n",
       "594  721537506022013              0\n",
       "595  721537506022014              0\n",
       "596  721537506022015              0\n",
       "\n",
       "[8174955 rows x 2 columns]"
      ]
     },
     "execution_count": 37,
     "metadata": {},
     "output_type": "execute_result"
    }
   ],
   "source": [
    "# df['address_count'] = df['address'].apply(lambda x: 0 if pd.isnull(x) else 1)\n",
    "# tdf = df.groupby('GEOID20')['address_count'].sum().reset_index()\n",
    "# assert df['GEOID20'].unique().size == len(tdf) # make sure size of unique GEOIDs are the same\n",
    "\n",
    "d = '../../data/address'\n",
    "dfs= []\n",
    "\n",
    "pbar = tqdm(sorted(pathlib.Path('../../data/address').glob('*.csv.xz')))\n",
    "for file in pbar:\n",
    "    pbar.set_description('Reading: %s' % file)\n",
    "    df = pd.read_csv(os.path.join(d,file), dtype={'GEOID20': object})\n",
    "    \n",
    "    assert all(df['GEOID20'].map(len)==15), print(file)\n",
    "    \n",
    "    df['address_count'] = df['address'].apply(lambda x: 0 if pd.isnull(x) else 1)\n",
    "    report = df.groupby('GEOID20')['address_count'].sum().reset_index()    \n",
    "    dfs.append(report)\n",
    "\n",
    "final_df = pd.concat(dfs)\n",
    "assert len(final_df) == 8174955 # Hard check\n",
    "final_df = final_df.sort_values(by=['GEOID20', 'address_count'])\n",
    "final_df.to_csv('../../data/coverage_report.csv.xz', index=False) # save file to report\n",
    "final_df"
   ]
  },
  {
   "cell_type": "code",
   "execution_count": 38,
   "metadata": {},
   "outputs": [
    {
     "data": {
      "text/html": [
       "<div>\n",
       "<style scoped>\n",
       "    .dataframe tbody tr th:only-of-type {\n",
       "        vertical-align: middle;\n",
       "    }\n",
       "\n",
       "    .dataframe tbody tr th {\n",
       "        vertical-align: top;\n",
       "    }\n",
       "\n",
       "    .dataframe thead th {\n",
       "        text-align: right;\n",
       "    }\n",
       "</style>\n",
       "<table border=\"1\" class=\"dataframe\">\n",
       "  <thead>\n",
       "    <tr style=\"text-align: right;\">\n",
       "      <th></th>\n",
       "      <th>GEOID20</th>\n",
       "      <th>address_count</th>\n",
       "    </tr>\n",
       "  </thead>\n",
       "  <tbody>\n",
       "    <tr>\n",
       "      <th>0</th>\n",
       "      <td>010010201001000</td>\n",
       "      <td>1</td>\n",
       "    </tr>\n",
       "    <tr>\n",
       "      <th>1</th>\n",
       "      <td>010010201001001</td>\n",
       "      <td>1</td>\n",
       "    </tr>\n",
       "    <tr>\n",
       "      <th>2</th>\n",
       "      <td>010010201001002</td>\n",
       "      <td>1</td>\n",
       "    </tr>\n",
       "    <tr>\n",
       "      <th>3</th>\n",
       "      <td>010010201001003</td>\n",
       "      <td>1</td>\n",
       "    </tr>\n",
       "    <tr>\n",
       "      <th>4</th>\n",
       "      <td>010010201001004</td>\n",
       "      <td>1</td>\n",
       "    </tr>\n",
       "    <tr>\n",
       "      <th>...</th>\n",
       "      <td>...</td>\n",
       "      <td>...</td>\n",
       "    </tr>\n",
       "    <tr>\n",
       "      <th>592</th>\n",
       "      <td>721537506022011</td>\n",
       "      <td>0</td>\n",
       "    </tr>\n",
       "    <tr>\n",
       "      <th>593</th>\n",
       "      <td>721537506022012</td>\n",
       "      <td>0</td>\n",
       "    </tr>\n",
       "    <tr>\n",
       "      <th>594</th>\n",
       "      <td>721537506022013</td>\n",
       "      <td>0</td>\n",
       "    </tr>\n",
       "    <tr>\n",
       "      <th>595</th>\n",
       "      <td>721537506022014</td>\n",
       "      <td>0</td>\n",
       "    </tr>\n",
       "    <tr>\n",
       "      <th>596</th>\n",
       "      <td>721537506022015</td>\n",
       "      <td>0</td>\n",
       "    </tr>\n",
       "  </tbody>\n",
       "</table>\n",
       "<p>8174955 rows × 2 columns</p>\n",
       "</div>"
      ],
      "text/plain": [
       "             GEOID20  address_count\n",
       "0    010010201001000              1\n",
       "1    010010201001001              1\n",
       "2    010010201001002              1\n",
       "3    010010201001003              1\n",
       "4    010010201001004              1\n",
       "..               ...            ...\n",
       "592  721537506022011              0\n",
       "593  721537506022012              0\n",
       "594  721537506022013              0\n",
       "595  721537506022014              0\n",
       "596  721537506022015              0\n",
       "\n",
       "[8174955 rows x 2 columns]"
      ]
     },
     "execution_count": 38,
     "metadata": {},
     "output_type": "execute_result"
    }
   ],
   "source": [
    "final_df.to_csv('../../data/coverage_report.csv.xz', index=False) # save file to report\n",
    "final_df"
   ]
  },
  {
   "cell_type": "code",
   "execution_count": 40,
   "metadata": {},
   "outputs": [
    {
     "data": {
      "text/plain": [
       "41.13802461297952"
      ]
     },
     "execution_count": 40,
     "metadata": {},
     "output_type": "execute_result"
    }
   ],
   "source": [
    "len(final_df[final_df['address_count'] >= 1]) / len(final_df) * 100"
   ]
  }
 ],
 "metadata": {
  "kernelspec": {
   "display_name": "Python 3 (ipykernel)",
   "language": "python",
   "name": "python3"
  },
  "language_info": {
   "codemirror_mode": {
    "name": "ipython",
    "version": 3
   },
   "file_extension": ".py",
   "mimetype": "text/x-python",
   "name": "python",
   "nbconvert_exporter": "python",
   "pygments_lexer": "ipython3",
   "version": "3.10.7"
  }
 },
 "nbformat": 4,
 "nbformat_minor": 4
}
