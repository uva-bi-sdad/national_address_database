{
 "cells": [
  {
   "cell_type": "code",
   "execution_count": 1,
   "id": "549c8b43",
   "metadata": {},
   "outputs": [],
   "source": [
    "import geopandas as gpd\n",
    "import pandas as pd\n",
    "from pathlib import Path\n",
    "from tqdm import tqdm"
   ]
  },
  {
   "cell_type": "code",
   "execution_count": 4,
   "id": "af3e9939",
   "metadata": {},
   "outputs": [
    {
     "name": "stderr",
     "output_type": "stream",
     "text": [
      "(0) Cleaning county: ../../data/address/72153.csv.xz, 72153: 100%|██████████████████████████████████████████████████████████████████████████████████████████████████████| 3221/3221 [02:15<00:00, 23.75it/s]\n"
     ]
    }
   ],
   "source": [
    "address_dir = '../../data/address/'\n",
    "p = Path(address_dir).iterdir()\n",
    "xz_files = sorted([x for x in p if x.is_file() and x.suffix=='.xz'])\n",
    "pbar = tqdm(xz_files)\n",
    "error_count = 0\n",
    "for file in pbar:\n",
    "    county_fip = file.name.split('.')[0]\n",
    "    pbar.set_description('(%s) Cleaning county: %s, %s' % (error_count, file, county_fip))\n",
    "    adf = pd.read_csv(file, dtype={'GEOID20':object})\n",
    "    \n",
    "    if not len(adf) == len(adf[~adf['GEOID20'].isnull()]):\n",
    "        error_count+= 1\n",
    "        print(file)"
   ]
  }
 ],
 "metadata": {
  "kernelspec": {
   "display_name": "Python 3 (ipykernel)",
   "language": "python",
   "name": "python3"
  },
  "language_info": {
   "codemirror_mode": {
    "name": "ipython",
    "version": 3
   },
   "file_extension": ".py",
   "mimetype": "text/x-python",
   "name": "python",
   "nbconvert_exporter": "python",
   "pygments_lexer": "ipython3",
   "version": "3.10.7"
  }
 },
 "nbformat": 4,
 "nbformat_minor": 5
}
